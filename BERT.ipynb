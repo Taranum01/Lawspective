{
  "cells": [
    {
      "cell_type": "code",
      "execution_count": null,
      "metadata": {
        "id": "W3HaEMXsL7qR"
      },
      "outputs": [],
      "source": [
        "import pandas as pd\n",
        "import numpy as np\n",
        "import pickle"
      ]
    },
    {
      "cell_type": "code",
      "execution_count": null,
      "metadata": {
        "colab": {
          "base_uri": "https://localhost:8080/"
        },
        "id": "WbH88bXuTKp2",
        "outputId": "3d549707-e079-4169-f5dd-da6c6030df23"
      },
      "outputs": [
        {
          "output_type": "stream",
          "name": "stdout",
          "text": [
            "--2022-12-19 07:24:03--  https://raw.githubusercontent.com/tensorflow/models/master/official/nlp/bert/tokenization.py\n",
            "Resolving raw.githubusercontent.com (raw.githubusercontent.com)... 185.199.108.133, 185.199.109.133, 185.199.110.133, ...\n",
            "Connecting to raw.githubusercontent.com (raw.githubusercontent.com)|185.199.108.133|:443... connected.\n",
            "HTTP request sent, awaiting response... 404 Not Found\n",
            "2022-12-19 07:24:03 ERROR 404: Not Found.\n",
            "\n"
          ]
        }
      ],
      "source": [
        "!wget https://raw.githubusercontent.com/tensorflow/models/master/official/nlp/bert/tokenization.py"
      ]
    },
    {
      "cell_type": "code",
      "execution_count": null,
      "metadata": {
        "colab": {
          "base_uri": "https://localhost:8080/"
        },
        "id": "fAb2KW6RTMOI",
        "outputId": "bebc19a6-cb31-428c-e86a-1b83a71b2583"
      },
      "outputs": [
        {
          "output_type": "stream",
          "name": "stdout",
          "text": [
            "Looking in indexes: https://pypi.org/simple, https://us-python.pkg.dev/colab-wheels/public/simple/\n",
            "Collecting sentencepiece\n",
            "  Downloading sentencepiece-0.1.97-cp38-cp38-manylinux_2_17_x86_64.manylinux2014_x86_64.whl (1.3 MB)\n",
            "\u001b[K     |████████████████████████████████| 1.3 MB 23.6 MB/s \n",
            "\u001b[?25hInstalling collected packages: sentencepiece\n",
            "Successfully installed sentencepiece-0.1.97\n"
          ]
        }
      ],
      "source": [
        "!pip install sentencepiece"
      ]
    },
    {
      "cell_type": "code",
      "execution_count": null,
      "metadata": {
        "id": "2FRri5nHTReg"
      },
      "outputs": [],
      "source": [
        "import tensorflow_hub as hub\n",
        "import tokenization1\n",
        "module_url = 'https://tfhub.dev/tensorflow/bert_en_uncased_L-12_H-768_A-12/2'\n",
        "bert_layer = hub.KerasLayer(module_url, trainable=True)"
      ]
    },
    {
      "cell_type": "code",
      "execution_count": null,
      "metadata": {
        "id": "uMYUW_BFODz8"
      },
      "outputs": [],
      "source": [
        "df=pd.read_csv(\"/content/FINAL_DATA.csv\")"
      ]
    },
    {
      "cell_type": "code",
      "execution_count": null,
      "metadata": {
        "colab": {
          "base_uri": "https://localhost:8080/",
          "height": 206
        },
        "id": "cUm_8tQqOX95",
        "outputId": "b75fc23a-f4a4-4a29-f715-77a90f051d2f"
      },
      "outputs": [
        {
          "output_type": "execute_result",
          "data": {
            "text/plain": [
              "                                                text   label  \\\n",
              "0  At about 8:00 pm on 10.09.1996, the\\r\\ndecease...  murder   \n",
              "1  between 26th and 27th November, 2000 when all ...  murder   \n",
              "2  The case of the prosecution in brief is that, ...  murder   \n",
              "3  I submit that my wife burnt to death this\\r\\ne...  murder   \n",
              "4  They entered the house and saw\\r\\nParamjit Sin...  murder   \n",
              "\n",
              "                                           cleanData  \n",
              "0  pm deceased along employee kamlesh pw left del...  \n",
              "1  november family member sleeping appellant accu...  \n",
              "2  case prosecution brief accused resident villag...  \n",
              "3  submit wife burnt death evening p shop brother...  \n",
              "4  entered house saw paramjit singh floor appella...  "
            ],
            "text/html": [
              "\n",
              "  <div id=\"df-e800f0fb-287d-4985-83b1-8d9d83c3effb\">\n",
              "    <div class=\"colab-df-container\">\n",
              "      <div>\n",
              "<style scoped>\n",
              "    .dataframe tbody tr th:only-of-type {\n",
              "        vertical-align: middle;\n",
              "    }\n",
              "\n",
              "    .dataframe tbody tr th {\n",
              "        vertical-align: top;\n",
              "    }\n",
              "\n",
              "    .dataframe thead th {\n",
              "        text-align: right;\n",
              "    }\n",
              "</style>\n",
              "<table border=\"1\" class=\"dataframe\">\n",
              "  <thead>\n",
              "    <tr style=\"text-align: right;\">\n",
              "      <th></th>\n",
              "      <th>text</th>\n",
              "      <th>label</th>\n",
              "      <th>cleanData</th>\n",
              "    </tr>\n",
              "  </thead>\n",
              "  <tbody>\n",
              "    <tr>\n",
              "      <th>0</th>\n",
              "      <td>At about 8:00 pm on 10.09.1996, the\\r\\ndecease...</td>\n",
              "      <td>murder</td>\n",
              "      <td>pm deceased along employee kamlesh pw left del...</td>\n",
              "    </tr>\n",
              "    <tr>\n",
              "      <th>1</th>\n",
              "      <td>between 26th and 27th November, 2000 when all ...</td>\n",
              "      <td>murder</td>\n",
              "      <td>november family member sleeping appellant accu...</td>\n",
              "    </tr>\n",
              "    <tr>\n",
              "      <th>2</th>\n",
              "      <td>The case of the prosecution in brief is that, ...</td>\n",
              "      <td>murder</td>\n",
              "      <td>case prosecution brief accused resident villag...</td>\n",
              "    </tr>\n",
              "    <tr>\n",
              "      <th>3</th>\n",
              "      <td>I submit that my wife burnt to death this\\r\\ne...</td>\n",
              "      <td>murder</td>\n",
              "      <td>submit wife burnt death evening p shop brother...</td>\n",
              "    </tr>\n",
              "    <tr>\n",
              "      <th>4</th>\n",
              "      <td>They entered the house and saw\\r\\nParamjit Sin...</td>\n",
              "      <td>murder</td>\n",
              "      <td>entered house saw paramjit singh floor appella...</td>\n",
              "    </tr>\n",
              "  </tbody>\n",
              "</table>\n",
              "</div>\n",
              "      <button class=\"colab-df-convert\" onclick=\"convertToInteractive('df-e800f0fb-287d-4985-83b1-8d9d83c3effb')\"\n",
              "              title=\"Convert this dataframe to an interactive table.\"\n",
              "              style=\"display:none;\">\n",
              "        \n",
              "  <svg xmlns=\"http://www.w3.org/2000/svg\" height=\"24px\"viewBox=\"0 0 24 24\"\n",
              "       width=\"24px\">\n",
              "    <path d=\"M0 0h24v24H0V0z\" fill=\"none\"/>\n",
              "    <path d=\"M18.56 5.44l.94 2.06.94-2.06 2.06-.94-2.06-.94-.94-2.06-.94 2.06-2.06.94zm-11 1L8.5 8.5l.94-2.06 2.06-.94-2.06-.94L8.5 2.5l-.94 2.06-2.06.94zm10 10l.94 2.06.94-2.06 2.06-.94-2.06-.94-.94-2.06-.94 2.06-2.06.94z\"/><path d=\"M17.41 7.96l-1.37-1.37c-.4-.4-.92-.59-1.43-.59-.52 0-1.04.2-1.43.59L10.3 9.45l-7.72 7.72c-.78.78-.78 2.05 0 2.83L4 21.41c.39.39.9.59 1.41.59.51 0 1.02-.2 1.41-.59l7.78-7.78 2.81-2.81c.8-.78.8-2.07 0-2.86zM5.41 20L4 18.59l7.72-7.72 1.47 1.35L5.41 20z\"/>\n",
              "  </svg>\n",
              "      </button>\n",
              "      \n",
              "  <style>\n",
              "    .colab-df-container {\n",
              "      display:flex;\n",
              "      flex-wrap:wrap;\n",
              "      gap: 12px;\n",
              "    }\n",
              "\n",
              "    .colab-df-convert {\n",
              "      background-color: #E8F0FE;\n",
              "      border: none;\n",
              "      border-radius: 50%;\n",
              "      cursor: pointer;\n",
              "      display: none;\n",
              "      fill: #1967D2;\n",
              "      height: 32px;\n",
              "      padding: 0 0 0 0;\n",
              "      width: 32px;\n",
              "    }\n",
              "\n",
              "    .colab-df-convert:hover {\n",
              "      background-color: #E2EBFA;\n",
              "      box-shadow: 0px 1px 2px rgba(60, 64, 67, 0.3), 0px 1px 3px 1px rgba(60, 64, 67, 0.15);\n",
              "      fill: #174EA6;\n",
              "    }\n",
              "\n",
              "    [theme=dark] .colab-df-convert {\n",
              "      background-color: #3B4455;\n",
              "      fill: #D2E3FC;\n",
              "    }\n",
              "\n",
              "    [theme=dark] .colab-df-convert:hover {\n",
              "      background-color: #434B5C;\n",
              "      box-shadow: 0px 1px 3px 1px rgba(0, 0, 0, 0.15);\n",
              "      filter: drop-shadow(0px 1px 2px rgba(0, 0, 0, 0.3));\n",
              "      fill: #FFFFFF;\n",
              "    }\n",
              "  </style>\n",
              "\n",
              "      <script>\n",
              "        const buttonEl =\n",
              "          document.querySelector('#df-e800f0fb-287d-4985-83b1-8d9d83c3effb button.colab-df-convert');\n",
              "        buttonEl.style.display =\n",
              "          google.colab.kernel.accessAllowed ? 'block' : 'none';\n",
              "\n",
              "        async function convertToInteractive(key) {\n",
              "          const element = document.querySelector('#df-e800f0fb-287d-4985-83b1-8d9d83c3effb');\n",
              "          const dataTable =\n",
              "            await google.colab.kernel.invokeFunction('convertToInteractive',\n",
              "                                                     [key], {});\n",
              "          if (!dataTable) return;\n",
              "\n",
              "          const docLinkHtml = 'Like what you see? Visit the ' +\n",
              "            '<a target=\"_blank\" href=https://colab.research.google.com/notebooks/data_table.ipynb>data table notebook</a>'\n",
              "            + ' to learn more about interactive tables.';\n",
              "          element.innerHTML = '';\n",
              "          dataTable['output_type'] = 'display_data';\n",
              "          await google.colab.output.renderOutput(dataTable, element);\n",
              "          const docLink = document.createElement('div');\n",
              "          docLink.innerHTML = docLinkHtml;\n",
              "          element.appendChild(docLink);\n",
              "        }\n",
              "      </script>\n",
              "    </div>\n",
              "  </div>\n",
              "  "
            ]
          },
          "metadata": {},
          "execution_count": 6
        }
      ],
      "source": [
        "df.head()"
      ]
    },
    {
      "cell_type": "code",
      "execution_count": null,
      "metadata": {
        "colab": {
          "base_uri": "https://localhost:8080/"
        },
        "id": "2Lw7guD7Oa8f",
        "outputId": "e2c2b4a9-5e09-4aa9-fedc-ead319aa7b83"
      },
      "outputs": [
        {
          "output_type": "execute_result",
          "data": {
            "text/plain": [
              "count        348\n",
              "unique         3\n",
              "top       murder\n",
              "freq         149\n",
              "Name: label, dtype: object"
            ]
          },
          "metadata": {},
          "execution_count": 7
        }
      ],
      "source": [
        "df.label.describe()"
      ]
    },
    {
      "cell_type": "code",
      "execution_count": null,
      "metadata": {
        "id": "XiJqXNVCOhNS"
      },
      "outputs": [],
      "source": [
        "df['target']=df.label.map({\"murder\":0,\"kidnapping\":1,\"sexual offense\":2})"
      ]
    },
    {
      "cell_type": "code",
      "execution_count": null,
      "metadata": {
        "colab": {
          "base_uri": "https://localhost:8080/"
        },
        "id": "0JJbx0-6Omm2",
        "outputId": "09462214-accf-4a94-8d56-be0cf46c29f2"
      },
      "outputs": [
        {
          "output_type": "execute_result",
          "data": {
            "text/plain": [
              "0      0\n",
              "1      0\n",
              "2      0\n",
              "3      0\n",
              "4      0\n",
              "      ..\n",
              "343    0\n",
              "344    0\n",
              "345    0\n",
              "346    0\n",
              "347    0\n",
              "Name: target, Length: 348, dtype: int64"
            ]
          },
          "metadata": {},
          "execution_count": 9
        }
      ],
      "source": [
        "df.target.astype(int)"
      ]
    },
    {
      "cell_type": "code",
      "execution_count": null,
      "metadata": {
        "id": "2d1r1JMMQOKl"
      },
      "outputs": [],
      "source": [
        "from sklearn.model_selection import train_test_split\n",
        "X_train,X_test, y_train,y_test = train_test_split(df.cleanData,df.target, test_size = 0.2, stratify = df.target,random_state = 42)"
      ]
    },
    {
      "cell_type": "code",
      "execution_count": null,
      "metadata": {
        "id": "l8p-4XksQRJv"
      },
      "outputs": [],
      "source": [
        "vocab_file = bert_layer.resolved_object.vocab_file.asset_path.numpy()\n",
        "do_lower_case = bert_layer.resolved_object.do_lower_case.numpy()\n",
        "tokenizer = tokenization1.FullTokenizer(vocab_file, do_lower_case)\n",
        "\n",
        "def bert_encode(texts, tokenizer, max_len=171):\n",
        "    all_tokens = []\n",
        "    all_masks = []\n",
        "    all_segments = []\n",
        "    \n",
        "    for text in texts:\n",
        "        text = tokenizer.tokenize(text)\n",
        "            \n",
        "        text = text[:max_len-2]\n",
        "        input_sequence = [\"[CLS]\"] + text + [\"[SEP]\"]\n",
        "        pad_len = max_len - len(input_sequence)\n",
        "        \n",
        "        tokens = tokenizer.convert_tokens_to_ids(input_sequence) + [0] * pad_len\n",
        "        pad_masks = [1] * len(input_sequence) + [0] * pad_len\n",
        "        segment_ids = [0] * max_len\n",
        "        \n",
        "        all_tokens.append(tokens)\n",
        "        all_masks.append(pad_masks)\n",
        "        all_segments.append(segment_ids)\n",
        "    \n",
        "    return np.array(all_tokens), np.array(all_masks), np.array(all_segments)"
      ]
    },
    {
      "cell_type": "code",
      "execution_count": null,
      "metadata": {
        "id": "gmlNoFTVQVYO"
      },
      "outputs": [],
      "source": [
        "def build_model(bert_layer, max_len=171):\n",
        "    input_word_ids = tf.keras.Input(shape=(max_len,), dtype=tf.int32, name=\"input_word_ids\")\n",
        "    input_mask = tf.keras.Input(shape=(max_len,), dtype=tf.int32, name=\"input_mask\")\n",
        "    segment_ids = tf.keras.Input(shape=(max_len,), dtype=tf.int32, name=\"segment_ids\")\n",
        "\n",
        "    pooled_output, sequence_output = bert_layer([input_word_ids, input_mask, segment_ids])\n",
        "    clf_output = sequence_output[:, 0, :]\n",
        "    net = tf.keras.layers.Dense(64, activation='relu')(clf_output)\n",
        "    net = tf.keras.layers.Dropout(0.2)(net)\n",
        "    out = tf.keras.layers.Dense(3, activation='softmax')(net)\n",
        "    \n",
        "    model = tf.keras.models.Model(inputs=[input_word_ids, input_mask, segment_ids], outputs=out)\n",
        "    model.compile(tf.keras.optimizers.Adam(lr=1e-5), loss='sparse_categorical_crossentropy', metrics=['accuracy'])\n",
        "    \n",
        "    return model"
      ]
    },
    {
      "cell_type": "code",
      "execution_count": null,
      "metadata": {
        "id": "DJkFPJKXTjv5"
      },
      "outputs": [],
      "source": [
        "import keras\n",
        "max_len = 171\n",
        "train_input = bert_encode(X_train, tokenizer, max_len=max_len)\n",
        "test_input = bert_encode(X_test, tokenizer, max_len=max_len)\n",
        "train_labels = y_train"
      ]
    },
    {
      "cell_type": "code",
      "source": [],
      "metadata": {
        "id": "usTyPl-Z_lUR"
      },
      "execution_count": null,
      "outputs": []
    },
    {
      "cell_type": "code",
      "execution_count": null,
      "metadata": {
        "colab": {
          "base_uri": "https://localhost:8080/"
        },
        "id": "4O-6-_zHTlgA",
        "outputId": "9ccf7e50-0a2b-4516-d244-c1adbaa60095"
      },
      "outputs": [
        {
          "output_type": "stream",
          "name": "stdout",
          "text": [
            "Model: \"model\"\n",
            "__________________________________________________________________________________________________\n",
            " Layer (type)                   Output Shape         Param #     Connected to                     \n",
            "==================================================================================================\n",
            " input_word_ids (InputLayer)    [(None, 171)]        0           []                               \n",
            "                                                                                                  \n",
            " input_mask (InputLayer)        [(None, 171)]        0           []                               \n",
            "                                                                                                  \n",
            " segment_ids (InputLayer)       [(None, 171)]        0           []                               \n",
            "                                                                                                  \n",
            " keras_layer (KerasLayer)       [(None, 768),        109482241   ['input_word_ids[0][0]',         \n",
            "                                 (None, 171, 768)]                'input_mask[0][0]',             \n",
            "                                                                  'segment_ids[0][0]']            \n",
            "                                                                                                  \n",
            " tf.__operators__.getitem (Slic  (None, 768)         0           ['keras_layer[0][1]']            \n",
            " ingOpLambda)                                                                                     \n",
            "                                                                                                  \n",
            " dense (Dense)                  (None, 64)           49216       ['tf.__operators__.getitem[0][0]'\n",
            "                                                                 ]                                \n",
            "                                                                                                  \n",
            " dropout (Dropout)              (None, 64)           0           ['dense[0][0]']                  \n",
            "                                                                                                  \n",
            " dense_1 (Dense)                (None, 3)            195         ['dropout[0][0]']                \n",
            "                                                                                                  \n",
            "==================================================================================================\n",
            "Total params: 109,531,652\n",
            "Trainable params: 109,531,651\n",
            "Non-trainable params: 1\n",
            "__________________________________________________________________________________________________\n"
          ]
        },
        {
          "output_type": "stream",
          "name": "stderr",
          "text": [
            "/usr/local/lib/python3.8/dist-packages/keras/optimizers/optimizer_v2/adam.py:110: UserWarning: The `lr` argument is deprecated, use `learning_rate` instead.\n",
            "  super(Adam, self).__init__(name, **kwargs)\n"
          ]
        }
      ],
      "source": [
        "import tensorflow as tf\n",
        "model = build_model(bert_layer, max_len=max_len)\n",
        "model.summary()"
      ]
    },
    {
      "cell_type": "code",
      "execution_count": null,
      "metadata": {
        "colab": {
          "base_uri": "https://localhost:8080/"
        },
        "id": "U3NXC4-QQ1_x",
        "outputId": "729e3f14-dbb1-4dd5-ce2a-bc1d9a70dee8"
      },
      "outputs": [
        {
          "output_type": "stream",
          "name": "stdout",
          "text": [
            "Epoch 1/7\n",
            "10/10 [==============================] - ETA: 0s - loss: 0.9839 - accuracy: 0.5216\n",
            "Epoch 1: val_accuracy improved from -inf to 0.71429, saving model to model.h5\n",
            "10/10 [==============================] - 39s 2s/step - loss: 0.9839 - accuracy: 0.5216 - val_loss: 0.7578 - val_accuracy: 0.7143\n",
            "Epoch 2/7\n",
            "10/10 [==============================] - ETA: 0s - loss: 0.7333 - accuracy: 0.7266\n",
            "Epoch 2: val_accuracy improved from 0.71429 to 0.80000, saving model to model.h5\n",
            "10/10 [==============================] - 17s 2s/step - loss: 0.7333 - accuracy: 0.7266 - val_loss: 0.5759 - val_accuracy: 0.8000\n",
            "Epoch 3/7\n",
            "10/10 [==============================] - ETA: 0s - loss: 0.5913 - accuracy: 0.8094\n",
            "Epoch 3: val_accuracy improved from 0.80000 to 0.87143, saving model to model.h5\n",
            "10/10 [==============================] - 16s 2s/step - loss: 0.5913 - accuracy: 0.8094 - val_loss: 0.4299 - val_accuracy: 0.8714\n",
            "Epoch 4/7\n",
            "10/10 [==============================] - ETA: 0s - loss: 0.4139 - accuracy: 0.8597\n",
            "Epoch 4: val_accuracy did not improve from 0.87143\n",
            "10/10 [==============================] - 10s 1s/step - loss: 0.4139 - accuracy: 0.8597 - val_loss: 0.3280 - val_accuracy: 0.8571\n",
            "Epoch 5/7\n",
            "10/10 [==============================] - ETA: 0s - loss: 0.2848 - accuracy: 0.9173\n",
            "Epoch 5: val_accuracy did not improve from 0.87143\n",
            "10/10 [==============================] - 11s 1s/step - loss: 0.2848 - accuracy: 0.9173 - val_loss: 0.3023 - val_accuracy: 0.8714\n",
            "Epoch 6/7\n",
            "10/10 [==============================] - ETA: 0s - loss: 0.2041 - accuracy: 0.9317\n",
            "Epoch 6: val_accuracy improved from 0.87143 to 0.90000, saving model to model.h5\n",
            "10/10 [==============================] - 17s 2s/step - loss: 0.2041 - accuracy: 0.9317 - val_loss: 0.3319 - val_accuracy: 0.9000\n",
            "Epoch 7/7\n",
            "10/10 [==============================] - ETA: 0s - loss: 0.1720 - accuracy: 0.9496\n",
            "Epoch 7: val_accuracy did not improve from 0.90000\n",
            "10/10 [==============================] - 11s 1s/step - loss: 0.1720 - accuracy: 0.9496 - val_loss: 0.3026 - val_accuracy: 0.8857\n"
          ]
        }
      ],
      "source": [
        "checkpoint = tf.keras.callbacks.ModelCheckpoint('model.h5', monitor='val_accuracy', mode='max',save_best_only=True, verbose=1)\n",
        "earlystopping = tf.keras.callbacks.EarlyStopping(monitor='val_loss',mode='min', patience=8, verbose=1)\n",
        "\n",
        "train_history = model.fit(\n",
        "    train_input, train_labels, \n",
        "    validation_data=(test_input,y_test),\n",
        "    epochs=7,\n",
        "    callbacks=[checkpoint, earlystopping],\n",
        "    batch_size=30,verbose=1)"
      ]
    },
    {
      "cell_type": "code",
      "execution_count": null,
      "metadata": {
        "colab": {
          "base_uri": "https://localhost:8080/"
        },
        "id": "jC3qChJVQ7SM",
        "outputId": "62bbd994-9c5e-47f6-8fcd-f0a9c0612701"
      },
      "outputs": [
        {
          "output_type": "stream",
          "name": "stdout",
          "text": [
            "3/3 [==============================] - 1s 230ms/step - loss: 0.3026 - accuracy: 0.8857\n"
          ]
        },
        {
          "output_type": "execute_result",
          "data": {
            "text/plain": [
              "[0.30263790488243103, 0.8857142925262451]"
            ]
          },
          "metadata": {},
          "execution_count": 16
        }
      ],
      "source": [
        "model.evaluate(test_input,y_test) "
      ]
    },
    {
      "cell_type": "code",
      "execution_count": null,
      "metadata": {
        "id": "PsLwUvKdQ9Ru"
      },
      "outputs": [],
      "source": [
        "import seaborn as sns\n",
        "import matplotlib.pyplot as plt"
      ]
    },
    {
      "cell_type": "code",
      "source": [
        "# with open('tokenizer.pickle', 'wb') as handle:\n",
        "#     pickle.dump(tokenizer, handle, protocol=pickle.HIGHEST_PROTOCOL)"
      ],
      "metadata": {
        "id": "VNsOh03CAZBr"
      },
      "execution_count": null,
      "outputs": []
    },
    {
      "cell_type": "code",
      "execution_count": null,
      "metadata": {
        "colab": {
          "base_uri": "https://localhost:8080/",
          "height": 265
        },
        "id": "Oc0ONFzIQ_B_",
        "outputId": "b65b8922-e9a1-4145-e6a9-d06100c051e5"
      },
      "outputs": [
        {
          "output_type": "display_data",
          "data": {
            "text/plain": [
              "<Figure size 432x288 with 1 Axes>"
            ],
            "image/png": "[encoded data removed]"
          },
          "metadata": {
            "needs_background": "light"
          }
        }
      ],
      "source": [
        "plt.plot(train_history.history['accuracy'],c='b',label='train accuracy')\n",
        "plt.plot(train_history.history['val_accuracy'],c='r',label='validation accuracy')\n",
        "plt.legend(loc='lower right')\n",
        "plt.show()"
      ]
    },
    {
      "cell_type": "code",
      "execution_count": null,
      "metadata": {
        "colab": {
          "base_uri": "https://localhost:8080/",
          "height": 265
        },
        "id": "P2ZT08hpRAt2",
        "outputId": "f710b8d0-ed7c-461b-dee9-9aaada87dde4"
      },
      "outputs": [
        {
          "output_type": "display_data",
          "data": {
            "text/plain": [
              "<Figure size 432x288 with 1 Axes>"
            ],
            "image/png": "[encoded data removed]"
          },
          "metadata": {
            "needs_background": "light"
          }
        }
      ],
      "source": [
        "plt.plot(train_history.history['loss'],c='b',label='train loss')\n",
        "plt.plot(train_history.history['val_loss'],c='r',label='validation loss')\n",
        "plt.legend(loc='lower right')\n",
        "plt.show()"
      ]
    },
    {
      "cell_type": "code",
      "execution_count": null,
      "metadata": {
        "id": "FI3AW8DVT466"
      },
      "outputs": [],
      "source": [
        "X_new=[\"carrying business taxi shimla december p gone hotel apsara cart road shimla inquire budhi singh pw manager hotel apsara regarding booking taxi passenger staying hotel budhi singh pw asked jai pal pw come time went together hotel basant celebrating new year took wine dinner together remained said hotel till clock thereafter budhi singh pw returned hotel apsara jai pal pw came towards cart road met romi kapoor pw pawan kumar pw deep chand rajnish alias rintu inquired booking room hotel earlier agreed upon jai pal pw went hotel apsara not find budhi singh pw therefore went upstairs hall hotel found accused manjeet singh along balraj surender kumar taking liquor jai pal pw inquired appellant accused manjeet singh manager hotel accused alleged retorted not chowkidar hotel know tell manager accusedmanjeet singh alleged started abusing jai pal pw proclaiming serving punjab police accused alleged started beating jai pal pw giving fist blow mouth jai pal pw ran outside met named romi kapoor pw deep chand pawan kumar pw rajnish narrated incident romi kapoor pw rajnish alias rintu pawan kumar pw went inside hall jai pal pw one roshan remained standing entrance hotel rajnish alias rintu inquired accused manjeet singh cause given beating jai pal pw accused alleged told companion balraj surender kumar tell rajnish friend cause beating jai pal pw balraj surender kumar alleged abetted instigated accused saying carbine ka kamal dekhao whereupon accused alleged fired shot carbine hit rajnish alias rintu romi kapoor pw jai pal pw pawan kumar pw rajnish alias rintu sustained two shot chest fell ground accused balraj alleged run away gun shot jai pal pw lifted rajnish alias rintu carried g c hospital shimla declared dead\"]\n",
        "new_input = bert_encode(X_new, tokenizer, max_len=max_len)"
      ]
    },
    {
      "cell_type": "code",
      "execution_count": null,
      "metadata": {
        "colab": {
          "base_uri": "https://localhost:8080/"
        },
        "id": "g2t761jtT7Gs",
        "outputId": "24e08d65-b801-494c-e4c1-f9e1b1612b18"
      },
      "outputs": [
        {
          "output_type": "stream",
          "name": "stdout",
          "text": [
            "1/1 [==============================] - 1s 544ms/step\n"
          ]
        },
        {
          "output_type": "execute_result",
          "data": {
            "text/plain": [
              "array([[0.94462115, 0.04657032, 0.00880852]], dtype=float32)"
            ]
          },
          "metadata": {},
          "execution_count": 22
        }
      ],
      "source": [
        "pred=model.predict(new_input)\n",
        "pred"
      ]
    },
    {
      "cell_type": "code",
      "execution_count": null,
      "metadata": {
        "colab": {
          "base_uri": "https://localhost:8080/"
        },
        "id": "kfURD6TMRGc0",
        "outputId": "9da3b7a8-fc12-4b86-daab-4ad689218676"
      },
      "outputs": [
        {
          "output_type": "stream",
          "name": "stdout",
          "text": [
            "[[0.94462115 0.04657032 0.00880852]] murder\n"
          ]
        }
      ],
      "source": [
        "labels = ['murder','kidnapping','sexual offense']\n",
        "print(pred, labels[np.argmax(pred)])"
      ]
    },
    {
      "cell_type": "code",
      "execution_count": null,
      "metadata": {
        "colab": {
          "base_uri": "https://localhost:8080/"
        },
        "id": "vd2hgT5HRJHg",
        "outputId": "89c02de4-be36-4401-ee20-5986709e3c9f"
      },
      "outputs": [
        {
          "output_type": "stream",
          "name": "stdout",
          "text": [
            "3/3 [==============================] - 1s 368ms/step\n",
            "              precision    recall  f1-score   support\n",
            "\n",
            "           0       0.96      0.83      0.89        30\n",
            "           1       0.80      0.80      0.80        10\n",
            "           2       0.85      0.97      0.91        30\n",
            "\n",
            "    accuracy                           0.89        70\n",
            "   macro avg       0.87      0.87      0.87        70\n",
            "weighted avg       0.89      0.89      0.89        70\n",
            "\n"
          ]
        }
      ],
      "source": [
        "from sklearn.metrics import classification_report\n",
        "\n",
        "y_pred=model.predict(test_input)\n",
        "predicted = np.argmax(y_pred, axis=1)\n",
        "report = classification_report(y_test, predicted)\n",
        "print(report)"
      ]
    },
    {
      "cell_type": "code",
      "execution_count": null,
      "metadata": {
        "id": "eJVvtvU7fDTr"
      },
      "outputs": [],
      "source": [
        "# model1 = keras.models.load_model('model.h5')\n",
        "\n",
        "# X_new=[\"carrying business taxi shimla december p gone hotel apsara cart road shimla inquire budhi singh pw manager hotel apsara regarding booking taxi passenger staying hotel budhi singh pw asked jai pal pw come time went together hotel basant celebrating new year took wine dinner together remained said hotel till clock thereafter budhi singh pw returned hotel apsara jai pal pw came towards cart road met romi kapoor pw pawan kumar pw deep chand rajnish alias rintu inquired booking room hotel earlier agreed upon jai pal pw went hotel apsara not find budhi singh pw therefore went upstairs hall hotel found accused manjeet singh along balraj surender kumar taking liquor jai pal pw inquired appellant accused manjeet singh manager hotel accused alleged retorted not chowkidar hotel know tell manager accusedmanjeet singh alleged started abusing jai pal pw proclaiming serving punjab police accused alleged started beating jai pal pw giving fist blow mouth jai pal pw ran outside met named romi kapoor pw deep chand pawan kumar pw rajnish narrated incident romi kapoor pw rajnish alias rintu pawan kumar pw went inside hall jai pal pw one roshan remained standing entrance hotel rajnish alias rintu inquired accused manjeet singh cause given beating jai pal pw accused alleged told companion balraj surender kumar tell rajnish friend cause beating jai pal pw balraj surender kumar alleged abetted instigated accused saying carbine ka kamal dekhao whereupon accused alleged fired shot carbine hit rajnish alias rintu romi kapoor pw jai pal pw pawan kumar pw rajnish alias rintu sustained two shot chest fell ground accused balraj alleged run away gun shot jai pal pw lifted rajnish alias rintu carried g c hospital shimla declared dead\"]\n",
        "# new_input = bert_encode(X_new, tokenizer, max_len=max_len)\n",
        "\n",
        "# # p = model.predict(\"carrying business taxi shimla december p gone hotel apsara cart road shimla inquire budhi singh pw manager hotel apsara regarding booking taxi passenger staying hotel budhi singh pw asked jai pal pw come time went together hotel basant celebrating new year took wine dinner together remained said hotel till clock thereafter budhi singh pw returned hotel apsara jai pal pw came towards cart road met romi kapoor pw pawan kumar pw deep chand rajnish alias rintu inquired booking room hotel earlier agreed upon jai pal pw went hotel apsara not find budhi singh pw therefore went upstairs hall hotel found accused manjeet singh along balraj surender kumar taking liquor jai pal pw inquired appellant accused manjeet singh manager hotel accused alleged retorted not chowkidar hotel know tell manager accusedmanjeet singh alleged started abusing jai pal pw proclaiming serving punjab police accused alleged started beating jai pal pw giving fist blow mouth jai pal pw ran outside met named romi kapoor pw deep chand pawan kumar pw rajnish narrated incident romi kapoor pw rajnish alias rintu pawan kumar pw went inside hall jai pal pw one roshan remained standing entrance hotel rajnish alias rintu inquired accused manjeet singh cause given beating jai pal pw accused alleged told companion balraj surender kumar tell rajnish friend cause beating jai pal pw balraj surender kumar alleged abetted instigated accused saying carbine ka kamal dekhao whereupon accused alleged fired shot carbine hit rajnish alias rintu romi kapoor pw jai pal pw pawan kumar pw rajnish alias rintu sustained two shot chest fell ground accused balraj alleged run away gun shot jai pal pw lifted rajnish alias rintu carried g c hospital shimla declared dead\")\n",
        "\n",
        "# # p = model1.predict(new_input)\n",
        "\n",
        "# # print(p)"
      ]
    }
  ],
  "metadata": {
    "accelerator": "GPU",
    "colab": {
      "provenance": []
    },
    "gpuClass": "standard",
    "kernelspec": {
      "display_name": "Python 3",
      "name": "python3"
    },
    "language_info": {
      "name": "python"
    }
  },
  "nbformat": 4,
  "nbformat_minor": 0
}