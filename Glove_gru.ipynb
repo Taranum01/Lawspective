{
  "cells": [
    {
      "cell_type": "code",
      "execution_count": null,
      "metadata": {
        "id": "W3HaEMXsL7qR"
      },
      "outputs": [],
      "source": [
        "import pandas as pd\n",
        "import numpy as np"
      ]
    },
    {
      "cell_type": "code",
      "execution_count": null,
      "metadata": {
        "id": "uMYUW_BFODz8"
      },
      "outputs": [],
      "source": [
        "df=pd.read_csv(\"/content/final.csv\")"
      ]
    },
    {
      "cell_type": "code",
      "execution_count": null,
      "metadata": {
        "colab": {
          "base_uri": "https://localhost:8080/",
          "height": 206
        },
        "id": "cUm_8tQqOX95",
        "outputId": "9e5e437e-6ff3-4558-d908-e7702d9b1832"
      },
      "outputs": [
        {
          "data": {
            "text/html": [
              "\n",
              "  <div id=\"df-9cd31844-67e2-4de6-9e4d-d52041aefc65\">\n",
              "    <div class=\"colab-df-container\">\n",
              "      <div>\n",
              "<style scoped>\n",
              "    .dataframe tbody tr th:only-of-type {\n",
              "        vertical-align: middle;\n",
              "    }\n",
              "\n",
              "    .dataframe tbody tr th {\n",
              "        vertical-align: top;\n",
              "    }\n",
              "\n",
              "    .dataframe thead th {\n",
              "        text-align: right;\n",
              "    }\n",
              "</style>\n",
              "<table border=\"1\" class=\"dataframe\">\n",
              "  <thead>\n",
              "    <tr style=\"text-align: right;\">\n",
              "      <th></th>\n",
              "      <th>text</th>\n",
              "      <th>label</th>\n",
              "    </tr>\n",
              "  </thead>\n",
              "  <tbody>\n",
              "    <tr>\n",
              "      <th>0</th>\n",
              "      <td>At about 8:00 pm on 10.09.1996, the\\r\\ndecease...</td>\n",
              "      <td>murder</td>\n",
              "    </tr>\n",
              "    <tr>\n",
              "      <th>1</th>\n",
              "      <td>between 26th and 27th November, 2000 when all ...</td>\n",
              "      <td>murder</td>\n",
              "    </tr>\n",
              "    <tr>\n",
              "      <th>2</th>\n",
              "      <td>The case of the prosecution in brief is that, ...</td>\n",
              "      <td>murder</td>\n",
              "    </tr>\n",
              "    <tr>\n",
              "      <th>3</th>\n",
              "      <td>I submit that my wife burnt to death this\\r\\ne...</td>\n",
              "      <td>murder</td>\n",
              "    </tr>\n",
              "    <tr>\n",
              "      <th>4</th>\n",
              "      <td>They entered the house and saw\\r\\nParamjit Sin...</td>\n",
              "      <td>murder</td>\n",
              "    </tr>\n",
              "  </tbody>\n",
              "</table>\n",
              "</div>\n",
              "      <button class=\"colab-df-convert\" onclick=\"convertToInteractive('df-9cd31844-67e2-4de6-9e4d-d52041aefc65')\"\n",
              "              title=\"Convert this dataframe to an interactive table.\"\n",
              "              style=\"display:none;\">\n",
              "        \n",
              "  <svg xmlns=\"http://www.w3.org/2000/svg\" height=\"24px\"viewBox=\"0 0 24 24\"\n",
              "       width=\"24px\">\n",
              "    <path d=\"M0 0h24v24H0V0z\" fill=\"none\"/>\n",
              "    <path d=\"M18.56 5.44l.94 2.06.94-2.06 2.06-.94-2.06-.94-.94-2.06-.94 2.06-2.06.94zm-11 1L8.5 8.5l.94-2.06 2.06-.94-2.06-.94L8.5 2.5l-.94 2.06-2.06.94zm10 10l.94 2.06.94-2.06 2.06-.94-2.06-.94-.94-2.06-.94 2.06-2.06.94z\"/><path d=\"M17.41 7.96l-1.37-1.37c-.4-.4-.92-.59-1.43-.59-.52 0-1.04.2-1.43.59L10.3 9.45l-7.72 7.72c-.78.78-.78 2.05 0 2.83L4 21.41c.39.39.9.59 1.41.59.51 0 1.02-.2 1.41-.59l7.78-7.78 2.81-2.81c.8-.78.8-2.07 0-2.86zM5.41 20L4 18.59l7.72-7.72 1.47 1.35L5.41 20z\"/>\n",
              "  </svg>\n",
              "      </button>\n",
              "      \n",
              "  <style>\n",
              "    .colab-df-container {\n",
              "      display:flex;\n",
              "      flex-wrap:wrap;\n",
              "      gap: 12px;\n",
              "    }\n",
              "\n",
              "    .colab-df-convert {\n",
              "      background-color: #E8F0FE;\n",
              "      border: none;\n",
              "      border-radius: 50%;\n",
              "      cursor: pointer;\n",
              "      display: none;\n",
              "      fill: #1967D2;\n",
              "      height: 32px;\n",
              "      padding: 0 0 0 0;\n",
              "      width: 32px;\n",
              "    }\n",
              "\n",
              "    .colab-df-convert:hover {\n",
              "      background-color: #E2EBFA;\n",
              "      box-shadow: 0px 1px 2px rgba(60, 64, 67, 0.3), 0px 1px 3px 1px rgba(60, 64, 67, 0.15);\n",
              "      fill: #174EA6;\n",
              "    }\n",
              "\n",
              "    [theme=dark] .colab-df-convert {\n",
              "      background-color: #3B4455;\n",
              "      fill: #D2E3FC;\n",
              "    }\n",
              "\n",
              "    [theme=dark] .colab-df-convert:hover {\n",
              "      background-color: #434B5C;\n",
              "      box-shadow: 0px 1px 3px 1px rgba(0, 0, 0, 0.15);\n",
              "      filter: drop-shadow(0px 1px 2px rgba(0, 0, 0, 0.3));\n",
              "      fill: #FFFFFF;\n",
              "    }\n",
              "  </style>\n",
              "\n",
              "      <script>\n",
              "        const buttonEl =\n",
              "          document.querySelector('#df-9cd31844-67e2-4de6-9e4d-d52041aefc65 button.colab-df-convert');\n",
              "        buttonEl.style.display =\n",
              "          google.colab.kernel.accessAllowed ? 'block' : 'none';\n",
              "\n",
              "        async function convertToInteractive(key) {\n",
              "          const element = document.querySelector('#df-9cd31844-67e2-4de6-9e4d-d52041aefc65');\n",
              "          const dataTable =\n",
              "            await google.colab.kernel.invokeFunction('convertToInteractive',\n",
              "                                                     [key], {});\n",
              "          if (!dataTable) return;\n",
              "\n",
              "          const docLinkHtml = 'Like what you see? Visit the ' +\n",
              "            '<a target=\"_blank\" href=https://colab.research.google.com/notebooks/data_table.ipynb>data table notebook</a>'\n",
              "            + ' to learn more about interactive tables.';\n",
              "          element.innerHTML = '';\n",
              "          dataTable['output_type'] = 'display_data';\n",
              "          await google.colab.output.renderOutput(dataTable, element);\n",
              "          const docLink = document.createElement('div');\n",
              "          docLink.innerHTML = docLinkHtml;\n",
              "          element.appendChild(docLink);\n",
              "        }\n",
              "      </script>\n",
              "    </div>\n",
              "  </div>\n",
              "  "
            ],
            "text/plain": [
              "                                               text    label\n",
              "0  At about 8:00 pm on 10.09.1996, the\\r\\ndecease...  murder\n",
              "1  between 26th and 27th November, 2000 when all ...  murder\n",
              "2  The case of the prosecution in brief is that, ...  murder\n",
              "3  I submit that my wife burnt to death this\\r\\ne...  murder\n",
              "4  They entered the house and saw\\r\\nParamjit Sin...  murder"
            ]
          },
          "execution_count": 5,
          "metadata": {},
          "output_type": "execute_result"
        }
      ],
      "source": [
        "df.head()"
      ]
    },
    {
      "cell_type": "code",
      "execution_count": null,
      "metadata": {
        "colab": {
          "base_uri": "https://localhost:8080/"
        },
        "id": "2Lw7guD7Oa8f",
        "outputId": "cbb075e6-7906-4a6a-89f6-9215df01c601"
      },
      "outputs": [
        {
          "data": {
            "text/plain": [
              "count        348\n",
              "unique         3\n",
              "top       murder\n",
              "freq         149\n",
              "Name: label, dtype: object"
            ]
          },
          "execution_count": 6,
          "metadata": {},
          "output_type": "execute_result"
        }
      ],
      "source": [
        "df.label.describe()"
      ]
    },
    {
      "cell_type": "code",
      "execution_count": null,
      "metadata": {
        "id": "XiJqXNVCOhNS"
      },
      "outputs": [],
      "source": [
        "df['target']=df.label.map({\"murder\":0,\"kidnapping\":1,\"sexual offense\":2})"
      ]
    },
    {
      "cell_type": "code",
      "execution_count": null,
      "metadata": {
        "id": "qUEO_W19OjzE"
      },
      "outputs": [],
      "source": [
        "df.columns=['text','label','target']"
      ]
    },
    {
      "cell_type": "code",
      "execution_count": null,
      "metadata": {
        "colab": {
          "base_uri": "https://localhost:8080/"
        },
        "id": "0JJbx0-6Omm2",
        "outputId": "bdd14ca4-d33f-456d-cdb2-82834466a281"
      },
      "outputs": [
        {
          "data": {
            "text/plain": [
              "0      0\n",
              "1      0\n",
              "2      0\n",
              "3      0\n",
              "4      0\n",
              "      ..\n",
              "343    0\n",
              "344    0\n",
              "345    0\n",
              "346    0\n",
              "347    0\n",
              "Name: target, Length: 348, dtype: int64"
            ]
          },
          "execution_count": 9,
          "metadata": {},
          "output_type": "execute_result"
        }
      ],
      "source": [
        "df.target.astype(int)"
      ]
    },
    {
      "cell_type": "code",
      "execution_count": null,
      "metadata": {
        "id": "2d1r1JMMQOKl"
      },
      "outputs": [],
      "source": [
        "from sklearn.model_selection import train_test_split\n",
        "X_train,X_test, y_train,y_test = train_test_split(df.text,df.target, test_size = 0.2, stratify = df.target,random_state = 42)"
      ]
    },
    {
      "cell_type": "code",
      "execution_count": null,
      "metadata": {
        "id": "l8p-4XksQRJv"
      },
      "outputs": [],
      "source": [
        "from keras.preprocessing.text import Tokenizer\n",
        "num_words = 10000 # this means 10000 unique words can be taken \n",
        "tokenizer=Tokenizer(num_words,lower=True)\n",
        "df_total = pd.concat([X_train, X_test], axis = 0)\n",
        "tokenizer.fit_on_texts(df_total)"
      ]
    },
    {
      "cell_type": "code",
      "execution_count": null,
      "metadata": {
        "id": "5dY4Y0CyQVQA"
      },
      "outputs": [],
      "source": [
        "import tensorflow\n",
        "from tensorflow import keras\n",
        "from tensorflow.keras.preprocessing.sequence import pad_sequences\n",
        "\n",
        "X_train_ =tokenizer.texts_to_sequences(X_train)\n",
        "X_train_pad=pad_sequences(X_train_,maxlen=171,padding='post')\n",
        "X_test_ = tokenizer.texts_to_sequences(X_test)\n",
        "X_test_pad = pad_sequences(X_test_, maxlen = 171, padding = 'post')"
      ]
    },
    {
      "cell_type": "code",
      "execution_count": null,
      "metadata": {
        "colab": {
          "base_uri": "https://localhost:8080/"
        },
        "id": "gmlNoFTVQVYO",
        "outputId": "6dcf0be7-e38e-40e9-a507-2ab00d862811"
      },
      "outputs": [
        {
          "name": "stdout",
          "output_type": "stream",
          "text": [
            "(278, 171) (70, 171)\n"
          ]
        }
      ],
      "source": [
        "print(X_train_pad.shape,X_test_pad.shape)"
      ]
    },
    {
      "cell_type": "code",
      "execution_count": null,
      "metadata": {
        "colab": {
          "base_uri": "https://localhost:8080/"
        },
        "id": "2KHV2VN9QZOe",
        "outputId": "e2414125-d625-4997-fa82-19eeb0c83778"
      },
      "outputs": [
        {
          "name": "stdout",
          "output_type": "stream",
          "text": [
            "[=================================================-] 99.9% 375.7/376.1MB downloaded\n"
          ]
        }
      ],
      "source": [
        "import gensim.downloader as api\n",
        "glove_gensim  = api.load('glove-wiki-gigaword-300')"
      ]
    },
    {
      "cell_type": "code",
      "execution_count": null,
      "metadata": {
        "id": "AVKTqIaBQodM"
      },
      "outputs": [],
      "source": [
        "vector_size = 300\n",
        "gensim_weight_matrix = np.zeros((num_words ,vector_size))\n",
        "gensim_weight_matrix.shape\n",
        "\n",
        "for word, index in tokenizer.word_index.items():\n",
        "    if index < num_words: # since index starts with zero \n",
        "        if word in glove_gensim.vocab:\n",
        "            gensim_weight_matrix[index] = glove_gensim[word]\n",
        "        else:\n",
        "            gensim_weight_matrix[index] = np.zeros(300)"
      ]
    },
    {
      "cell_type": "code",
      "execution_count": null,
      "metadata": {
        "colab": {
          "base_uri": "https://localhost:8080/"
        },
        "id": "bdY9Y8m0Qt3K",
        "outputId": "7d5fece4-9a57-4029-ea25-2bd437c02778"
      },
      "outputs": [
        {
          "name": "stdout",
          "output_type": "stream",
          "text": [
            "(10000, 300)\n"
          ]
        }
      ],
      "source": [
        "print(gensim_weight_matrix.shape)\n",
        "from tensorflow.keras.layers import Dense, LSTM, Embedding,Bidirectional,GRU\n",
        "import tensorflow\n",
        "from keras.models import Sequential\n",
        "from tensorflow.compat.v1.keras.layers import CuDNNLSTM,CuDNNGRU\n",
        "from tensorflow.keras.layers import Dropout"
      ]
    },
    {
      "cell_type": "code",
      "execution_count": null,
      "metadata": {
        "id": "n6ZnwoPBQx4P"
      },
      "outputs": [],
      "source": [
        "EMBEDDING_DIM = 300 # this means the embedding layer will create  a vector in 100 dimension\n",
        "model_gensim = Sequential()\n",
        "model_gensim.add(Embedding(input_dim = num_words,# the whole vocabulary size \n",
        "                          output_dim = EMBEDDING_DIM, # vector space dimension\n",
        "                          input_length= X_train_pad.shape[1], # max_len of text sequence\n",
        "                          weights = [gensim_weight_matrix],trainable = False))\n",
        "model_gensim.add(Dropout(0.2))\n",
        "model_gensim.add(Bidirectional(GRU(300,return_sequences=True)))\n",
        "model_gensim.add(Dropout(0.2))\n",
        "model_gensim.add(Bidirectional(GRU(400,return_sequences=True)))\n",
        "model_gensim.add(Dropout(0.2))\n",
        "model_gensim.add(Bidirectional(GRU(400,return_sequences=True)))\n",
        "model_gensim.add(Dropout(0.2))\n",
        "model_gensim.add(Bidirectional(GRU(300,return_sequences=False)))\n",
        "model_gensim.add(Dense(3, activation = 'softmax'))\n",
        "model_gensim.compile(loss = 'sparse_categorical_crossentropy', optimizer = 'adam',metrics =['accuracy'])"
      ]
    },
    {
      "cell_type": "code",
      "execution_count": null,
      "metadata": {
        "colab": {
          "base_uri": "https://localhost:8080/"
        },
        "id": "nFSORMIWQz7s",
        "outputId": "9d6d1d39-25d0-48de-b1ab-9e2067594ad8"
      },
      "outputs": [
        {
          "name": "stdout",
          "output_type": "stream",
          "text": [
            "Model: \"sequential\"\n",
            "_________________________________________________________________\n",
            " Layer (type)                Output Shape              Param #   \n",
            "=================================================================\n",
            " embedding (Embedding)       (None, 171, 300)          3000000   \n",
            "                                                                 \n",
            " dropout (Dropout)           (None, 171, 300)          0         \n",
            "                                                                 \n",
            " bidirectional (Bidirectiona  (None, 171, 600)         1083600   \n",
            " l)                                                              \n",
            "                                                                 \n",
            " dropout_1 (Dropout)         (None, 171, 600)          0         \n",
            "                                                                 \n",
            " bidirectional_1 (Bidirectio  (None, 171, 800)         2404800   \n",
            " nal)                                                            \n",
            "                                                                 \n",
            " dropout_2 (Dropout)         (None, 171, 800)          0         \n",
            "                                                                 \n",
            " bidirectional_2 (Bidirectio  (None, 171, 800)         2884800   \n",
            " nal)                                                            \n",
            "                                                                 \n",
            " dropout_3 (Dropout)         (None, 171, 800)          0         \n",
            "                                                                 \n",
            " bidirectional_3 (Bidirectio  (None, 600)              1983600   \n",
            " nal)                                                            \n",
            "                                                                 \n",
            " dense (Dense)               (None, 3)                 1803      \n",
            "                                                                 \n",
            "=================================================================\n",
            "Total params: 11,358,603\n",
            "Trainable params: 8,358,603\n",
            "Non-trainable params: 3,000,000\n",
            "_________________________________________________________________\n"
          ]
        }
      ],
      "source": [
        "model_gensim.summary()"
      ]
    },
    {
      "cell_type": "code",
      "execution_count": null,
      "metadata": {
        "id": "U3NXC4-QQ1_x"
      },
      "outputs": [],
      "source": [
        "from keras.callbacks import EarlyStopping, ModelCheckpoint\n",
        "\n",
        "es = EarlyStopping(monitor = 'val_loss', mode = 'min', verbose = 1, patience = 8)\n",
        "mc = ModelCheckpoint('./model_gensim.h5', monitor = 'val_accuracy', mode = 'max', verbose = 1, save_best_only = True)"
      ]
    },
    {
      "cell_type": "code",
      "execution_count": null,
      "metadata": {
        "colab": {
          "background_save": true,
          "base_uri": "https://localhost:8080/"
        },
        "id": "jxG0zxS7Q3gj",
        "outputId": "4dabf654-cb70-4786-e9a7-b688e74c37db"
      },
      "outputs": [
        {
          "name": "stdout",
          "output_type": "stream",
          "text": [
            "Epoch 1/60\n",
            "3/3 [==============================] - ETA: 0s - loss: 1.0376 - accuracy: 0.5576 \n",
            "Epoch 1: val_accuracy improved from -inf to 0.37143, saving model to ./model_gensim.h5\n",
            "3/3 [==============================] - 93s 25s/step - loss: 1.0376 - accuracy: 0.5576 - val_loss: 1.2044 - val_accuracy: 0.3714\n",
            "Epoch 2/60\n",
            "3/3 [==============================] - ETA: 0s - loss: 0.8716 - accuracy: 0.5576 \n",
            "Epoch 2: val_accuracy improved from 0.37143 to 0.70000, saving model to ./model_gensim.h5\n",
            "3/3 [==============================] - 70s 23s/step - loss: 0.8716 - accuracy: 0.5576 - val_loss: 0.6861 - val_accuracy: 0.7000\n",
            "Epoch 3/60\n",
            "3/3 [==============================] - ETA: 0s - loss: 0.6153 - accuracy: 0.7338 \n",
            "Epoch 3: val_accuracy improved from 0.70000 to 0.80000, saving model to ./model_gensim.h5\n",
            "3/3 [==============================] - 68s 23s/step - loss: 0.6153 - accuracy: 0.7338 - val_loss: 0.5509 - val_accuracy: 0.8000\n",
            "Epoch 4/60\n",
            "3/3 [==============================] - ETA: 0s - loss: 0.4281 - accuracy: 0.8129 \n",
            "Epoch 4: val_accuracy did not improve from 0.80000\n",
            "3/3 [==============================] - 69s 23s/step - loss: 0.4281 - accuracy: 0.8129 - val_loss: 0.5192 - val_accuracy: 0.8000\n",
            "Epoch 5/60\n",
            "3/3 [==============================] - ETA: 0s - loss: 0.4492 - accuracy: 0.8129 \n",
            "Epoch 5: val_accuracy did not improve from 0.80000\n",
            "3/3 [==============================] - 69s 23s/step - loss: 0.4492 - accuracy: 0.8129 - val_loss: 0.6822 - val_accuracy: 0.7714\n",
            "Epoch 6/60\n",
            "3/3 [==============================] - ETA: 0s - loss: 0.3341 - accuracy: 0.8957 \n",
            "Epoch 6: val_accuracy improved from 0.80000 to 0.81429, saving model to ./model_gensim.h5\n",
            "3/3 [==============================] - 72s 25s/step - loss: 0.3341 - accuracy: 0.8957 - val_loss: 0.5150 - val_accuracy: 0.8143\n",
            "Epoch 7/60\n",
            "3/3 [==============================] - ETA: 0s - loss: 0.2239 - accuracy: 0.9209 \n",
            "Epoch 7: val_accuracy improved from 0.81429 to 0.84286, saving model to ./model_gensim.h5\n",
            "3/3 [==============================] - 69s 23s/step - loss: 0.2239 - accuracy: 0.9209 - val_loss: 0.3461 - val_accuracy: 0.8429\n",
            "Epoch 8/60\n",
            "3/3 [==============================] - ETA: 0s - loss: 0.1728 - accuracy: 0.9317 \n",
            "Epoch 8: val_accuracy improved from 0.84286 to 0.87143, saving model to ./model_gensim.h5\n",
            "3/3 [==============================] - 68s 23s/step - loss: 0.1728 - accuracy: 0.9317 - val_loss: 0.4115 - val_accuracy: 0.8714\n",
            "Epoch 9/60\n",
            "3/3 [==============================] - ETA: 0s - loss: 0.1258 - accuracy: 0.9604 \n",
            "Epoch 9: val_accuracy did not improve from 0.87143\n",
            "3/3 [==============================] - 69s 23s/step - loss: 0.1258 - accuracy: 0.9604 - val_loss: 0.5116 - val_accuracy: 0.7857\n",
            "Epoch 10/60\n",
            "3/3 [==============================] - ETA: 0s - loss: 0.1344 - accuracy: 0.9604 \n",
            "Epoch 10: val_accuracy did not improve from 0.87143\n",
            "3/3 [==============================] - 69s 23s/step - loss: 0.1344 - accuracy: 0.9604 - val_loss: 0.5057 - val_accuracy: 0.8429\n",
            "Epoch 11/60\n",
            "3/3 [==============================] - ETA: 0s - loss: 0.0812 - accuracy: 0.9820 \n",
            "Epoch 11: val_accuracy did not improve from 0.87143\n",
            "3/3 [==============================] - 67s 22s/step - loss: 0.0812 - accuracy: 0.9820 - val_loss: 0.6391 - val_accuracy: 0.8429\n",
            "Epoch 12/60\n",
            "3/3 [==============================] - ETA: 0s - loss: 0.0571 - accuracy: 0.9856 \n",
            "Epoch 12: val_accuracy did not improve from 0.87143\n",
            "3/3 [==============================] - 67s 22s/step - loss: 0.0571 - accuracy: 0.9856 - val_loss: 0.8359 - val_accuracy: 0.7714\n",
            "Epoch 13/60\n",
            "3/3 [==============================] - ETA: 0s - loss: 0.0866 - accuracy: 0.9712 \n",
            "Epoch 13: val_accuracy did not improve from 0.87143\n",
            "3/3 [==============================] - 68s 23s/step - loss: 0.0866 - accuracy: 0.9712 - val_loss: 0.5553 - val_accuracy: 0.8000\n",
            "Epoch 14/60\n",
            "3/3 [==============================] - ETA: 0s - loss: 0.0560 - accuracy: 0.9784 \n",
            "Epoch 14: val_accuracy improved from 0.87143 to 0.88571, saving model to ./model_gensim.h5\n",
            "3/3 [==============================] - 68s 23s/step - loss: 0.0560 - accuracy: 0.9784 - val_loss: 0.4142 - val_accuracy: 0.8857\n",
            "Epoch 15/60\n",
            "3/3 [==============================] - ETA: 0s - loss: 0.0352 - accuracy: 0.9928 \n",
            "Epoch 15: val_accuracy did not improve from 0.88571\n",
            "3/3 [==============================] - 70s 24s/step - loss: 0.0352 - accuracy: 0.9928 - val_loss: 0.4227 - val_accuracy: 0.8571\n",
            "Epoch 15: early stopping\n"
          ]
        }
      ],
      "source": [
        "history_gensim = model_gensim.fit(X_train_pad,y_train, epochs = 60, batch_size = 100, validation_data=(X_test_pad, y_test),verbose = 1, callbacks= [es, mc]  )"
      ]
    },
    {
      "cell_type": "code",
      "execution_count": null,
      "metadata": {
        "colab": {
          "base_uri": "https://localhost:8080/"
        },
        "id": "jC3qChJVQ7SM",
        "outputId": "31a0a3c6-68dc-4436-af38-0cb616357945"
      },
      "outputs": [
        {
          "name": "stdout",
          "output_type": "stream",
          "text": [
            "3/3 [==============================] - 0s 45ms/step - loss: 0.6573 - accuracy: 0.8429\n"
          ]
        },
        {
          "data": {
            "text/plain": [
              "[0.6573021411895752, 0.8428571224212646]"
            ]
          },
          "execution_count": 21,
          "metadata": {},
          "output_type": "execute_result"
        }
      ],
      "source": [
        "model_gensim.evaluate(X_test_pad, y_test) "
      ]
    },
    {
      "cell_type": "code",
      "execution_count": null,
      "metadata": {
        "id": "PsLwUvKdQ9Ru"
      },
      "outputs": [],
      "source": [
        "import seaborn as sns\n",
        "import matplotlib.pyplot as plt"
      ]
    },
    {
      "cell_type": "code",
      "execution_count": null,
      "metadata": {
        "colab": {
          "base_uri": "https://localhost:8080/"
        },
        "id": "Oc0ONFzIQ_B_",
        "outputId": "6987bf89-5e1d-4581-b9f1-f2bcf1979850"
      },
      "outputs": [
        {
          "data": {
            "image/png": "[encoded data removed]",
            "text/plain": [
              "<Figure size 432x288 with 1 Axes>"
            ]
          },
          "metadata": {},
          "output_type": "display_data"
        }
      ],
      "source": [
        "plt.plot(history_gensim.history['accuracy'],c='b',label='train accuracy')\n",
        "plt.plot(history_gensim.history['val_accuracy'],c='r',label='validation accuracy')\n",
        "plt.legend(loc='lower right')\n",
        "plt.show()"
      ]
    },
    {
      "cell_type": "code",
      "execution_count": null,
      "metadata": {
        "colab": {
          "base_uri": "https://localhost:8080/"
        },
        "id": "P2ZT08hpRAt2",
        "outputId": "7a424272-c2e0-4b0e-cf01-637e46569ad4"
      },
      "outputs": [
        {
          "data": {
            "image/png": "[encoded data removed]",
            "text/plain": [
              "<Figure size 432x288 with 1 Axes>"
            ]
          },
          "metadata": {},
          "output_type": "display_data"
        }
      ],
      "source": [
        "plt.plot(history_gensim.history['loss'],c='b',label='train loss')\n",
        "plt.plot(history_gensim.history['val_loss'],c='r',label='validation loss')\n",
        "plt.legend(loc='lower right')\n",
        "plt.show()"
      ]
    },
    {
      "cell_type": "code",
      "execution_count": null,
      "metadata": {
        "colab": {
          "base_uri": "https://localhost:8080/"
        },
        "id": "kfURD6TMRGc0",
        "outputId": "ee8a494b-a089-4106-e6e1-15db854a51cf"
      },
      "outputs": [
        {
          "name": "stdout",
          "output_type": "stream",
          "text": [
            "1/1 [==============================] - 3s 3s/step\n",
            "[[1.0568783e-02 5.2282053e-06 9.8942602e-01]] sexual offense\n"
          ]
        }
      ],
      "source": [
        "new_complaint = ['On 6.11.1995, Nasima Begum (PW.1), aged about 16 years filed a complaint alleging that on that day while she was going to attend her tuition alongwith her friend Nilufa Khatun, she met the appellant on the way who suddenly came and forcibly caught hold of her hair and planted a kiss, resultantly, she suffered a cut over her lower lip and started bleeding.']\n",
        "seq = tokenizer.texts_to_sequences(new_complaint)\n",
        "padded = pad_sequences(seq, maxlen=171,padding='post')\n",
        "pred = model_gensim.predict(padded)\n",
        "labels = ['murder','kidnapping','sexual offense']\n",
        "print(pred, labels[np.argmax(pred)])"
      ]
    },
    {
      "cell_type": "code",
      "execution_count": null,
      "metadata": {
        "colab": {
          "base_uri": "https://localhost:8080/"
        },
        "id": "vd2hgT5HRJHg",
        "outputId": "2b13b6ce-3ce1-4470-c775-d57f262d30b3"
      },
      "outputs": [
        {
          "name": "stdout",
          "output_type": "stream",
          "text": [
            "3/3 [==============================] - 0s 90ms/step\n",
            "              precision    recall  f1-score   support\n",
            "\n",
            "           0       0.82      0.93      0.87        30\n",
            "           1       0.73      0.80      0.76        10\n",
            "           2       0.92      0.77      0.84        30\n",
            "\n",
            "    accuracy                           0.84        70\n",
            "   macro avg       0.82      0.83      0.82        70\n",
            "weighted avg       0.85      0.84      0.84        70\n",
            "\n"
          ]
        }
      ],
      "source": [
        "from sklearn.metrics import classification_report\n",
        "\n",
        "y_pred=model_gensim.predict(X_test_pad)\n",
        "predicted = np.argmax(y_pred, axis=1)\n",
        "report = classification_report(y_test, predicted)\n",
        "print(report)"
      ]
    }
  ],
  "metadata": {
    "accelerator": "GPU",
    "colab": {
      "provenance": []
    },
    "gpuClass": "standard",
    "kernelspec": {
      "display_name": "Python 3",
      "name": "python3"
    },
    "language_info": {
      "name": "python"
    }
  },
  "nbformat": 4,
  "nbformat_minor": 0
}